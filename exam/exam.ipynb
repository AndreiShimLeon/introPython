{
  "nbformat": 4,
  "nbformat_minor": 0,
  "metadata": {
    "colab": {
      "provenance": []
    },
    "kernelspec": {
      "name": "python3",
      "display_name": "Python 3"
    },
    "language_info": {
      "name": "python"
    }
  },
  "cells": [
    {
      "cell_type": "code",
      "execution_count": 55,
      "metadata": {
        "colab": {
          "base_uri": "https://localhost:8080/"
        },
        "id": "MfinXdK5MA6k",
        "outputId": "1da61f36-6098-43ed-ac20-be643dc52562"
      },
      "outputs": [
        {
          "output_type": "stream",
          "name": "stdout",
          "text": [
            "    robot  human\n",
            "0     1.0    0.0\n",
            "1     1.0    0.0\n",
            "2     0.0    1.0\n",
            "3     1.0    0.0\n",
            "4     1.0    0.0\n",
            "5     0.0    1.0\n",
            "6     0.0    1.0\n",
            "7     1.0    0.0\n",
            "8     1.0    0.0\n",
            "9     0.0    1.0\n",
            "10    0.0    1.0\n",
            "11    0.0    1.0\n",
            "12    0.0    1.0\n",
            "13    1.0    0.0\n",
            "14    1.0    0.0\n",
            "15    1.0    0.0\n",
            "16    1.0    0.0\n",
            "17    0.0    1.0\n",
            "18    0.0    1.0\n",
            "19    0.0    1.0\n"
          ]
        }
      ],
      "source": [
        "import random\n",
        "\n",
        "lst = ['robot'] * 10\n",
        "lst += ['human'] * 10\n",
        "random.shuffle(lst)\n",
        "data = pd.DataFrame(lst, columns = ['whoAmI'])\n",
        "data.loc[data['whoAmI'] == 'robot', 'robot'] = 1\n",
        "data.loc[data['whoAmI'] == 'human', 'robot'] = 0\n",
        "data.loc[data['whoAmI'] == 'human', 'human'] = 1\n",
        "data.loc[data['whoAmI'] == 'robot', 'human'] = 0\n",
        "print(data[['robot', 'human']])"
      ]
    }
  ]
}